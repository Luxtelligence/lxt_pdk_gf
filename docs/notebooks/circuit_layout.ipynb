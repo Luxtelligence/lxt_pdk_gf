{
 "cells": [
  {
   "cell_type": "markdown",
   "metadata": {},
   "source": [
    "## Circuit layout\n",
    "\n",
    "Here we provide an example of PIC layout with the lnoi400 PDK. We start by choosing a die floorplan compatible with a submission for an LXT MPW run, then place some edge couplers for I/O at the right locations on the chip frame. Finally we create a circuit cell with an evanescently-coupled ring resonator and connect it with the input and output edge couplers."
   ]
  },
  {
   "cell_type": "code",
   "execution_count": null,
   "metadata": {},
   "outputs": [],
   "source": [
    "from functools import partial\n",
    "from pathlib import Path\n",
    "import numpy as np\n",
    "import lnoi400\n",
    "import gdsfactory as gf"
   ]
  },
  {
   "cell_type": "markdown",
   "metadata": {},
   "source": [
    "### Choose the chip format and display the outline"
   ]
  },
  {
   "cell_type": "code",
   "execution_count": null,
   "metadata": {},
   "outputs": [],
   "source": [
    "@gf.cell\n",
    "def chip_frame():\n",
    "    c = gf.get_component(\"chip_frame\", size=(10_000, 5000), center=(0, 0))\n",
    "    return c\n",
    "\n",
    "chip_layout = chip_frame()\n",
    "chip_layout"
   ]
  },
  {
   "cell_type": "markdown",
   "metadata": {},
   "source": [
    "### Get the circuit building blocks"
   ]
  },
  {
   "cell_type": "code",
   "execution_count": null,
   "metadata": {},
   "outputs": [],
   "source": [
    "input_ext = 10.0\n",
    "double_taper = gf.get_component(\"double_linear_inverse_taper\",\n",
    "                                input_ext=input_ext,\n",
    "                                )\n",
    "\n",
    "coupler_gap = 0.6\n",
    "ring_radius = 100.0\n",
    "ring_width = 2.0\n",
    "wg_width = 1.0\n",
    "\n",
    "ring = gf.components.ring(\n",
    "    layer=\"LN_RIDGE\",\n",
    "    radius=ring_radius,\n",
    "    width=ring_width,\n",
    "    angle_resolution=0.15,\n",
    ")\n",
    "\n",
    "dc_wg = gf.components.straight(\n",
    "    length = ring_radius * 2,\n",
    "    cross_section=\"xs_rwg1000\",\n",
    ")\n",
    "\n",
    "@gf.cell\n",
    "def ring_with_coupler(\n",
    "    ring=ring,\n",
    "    bus=dc_wg,\n",
    "    gap=coupler_gap,\n",
    ") -> gf.Component:\n",
    "\n",
    "    c = gf.Component()\n",
    "    ring_ref = c << ring\n",
    "    coupler_ref = c << bus\n",
    "    coupler_ref.drotate(90)\n",
    "    coupler_ref.dcenter = [\n",
    "        ring_ref.dxmax + gap + 0.5 * wg_width, 0.0\n",
    "        ]\n",
    "    c.add_ports(coupler_ref.ports)\n",
    "    c.flatten()\n",
    "    return c\n",
    "\n",
    "coupled_ring = ring_with_coupler()\n",
    "coupled_ring"
   ]
  },
  {
   "cell_type": "markdown",
   "metadata": {},
   "source": [
    "### Circuit assembly\n",
    "\n",
    "Positioning of the I/O couplers"
   ]
  },
  {
   "cell_type": "code",
   "execution_count": null,
   "metadata": {},
   "outputs": [],
   "source": [
    "x_in = chip_layout.dxmin + 1000.0\n",
    "in_loc = np.array([x_in, chip_layout.dymax])\n",
    "out_loc = np.array([x_in + 2.5 * ring_radius, chip_layout.dymin])\n",
    "\n",
    "ec_in = gf.Component()\n",
    "ec_ref = ec_in << double_taper\n",
    "ec_ref.drotate(-90.0)\n",
    "ec_ref.dmove(\n",
    "    ec_ref.ports[\"o1\"].dcenter, in_loc + [0.0, 0.5 * input_ext]\n",
    ")\n",
    "ec_in.add_ports(ec_ref.ports)\n",
    "\n",
    "ec_out = gf.Component()\n",
    "ec_ref = ec_out << double_taper\n",
    "ec_ref.drotate(90.0)\n",
    "ec_ref.dmove(\n",
    "    ec_ref.ports[\"o1\"].dcenter, out_loc - [0.0, 0.5 * input_ext]\n",
    ")\n",
    "ec_out.add_ports(ec_ref.ports)\n",
    "\n",
    "ecs = {\n",
    "    \"in\": ec_in,\n",
    "    \"out\": ec_out,\n",
    "}"
   ]
  },
  {
   "cell_type": "markdown",
   "metadata": {},
   "source": [
    "Connecting the ring with I/O"
   ]
  },
  {
   "cell_type": "code",
   "execution_count": null,
   "metadata": {},
   "outputs": [],
   "source": [
    "routing_roc = 75.0\n",
    "\n",
    "@gf.cell\n",
    "def ring_pass_circuit(\n",
    "    coupled_ring = coupled_ring,\n",
    "    ecs = ecs,\n",
    ") -> gf.Component:\n",
    "\n",
    "    c = gf.Component()\n",
    "    ring_ref = c << coupled_ring\n",
    "    ring_ref.dmovex(- ring_ref.ports[\"o1\"].dcenter[0] + ecs[\"out\"].ports[\"o1\"].dcenter[0])\n",
    "\n",
    "    # Bend spec\n",
    "\n",
    "    routing_bend = partial(\n",
    "        gf.components.bend_euler,\n",
    "        radius=routing_roc,\n",
    "        with_arc_floorplan=True,\n",
    "    )\n",
    "\n",
    "    # Routing to I/O\n",
    "\n",
    "    [c << ec for ec in ecs.values()]\n",
    "\n",
    "    gf.routing.route_single(\n",
    "        c,\n",
    "        ring_ref.ports[\"o2\"],\n",
    "        ecs[\"in\"].ports[\"o2\"],\n",
    "        start_straight_length=5.0,\n",
    "        end_straight_length=5.0,\n",
    "        cross_section=\"xs_rwg1000\",\n",
    "        bend=routing_bend,\n",
    "    )\n",
    "\n",
    "    gf.routing.route_single(\n",
    "        c,\n",
    "        ring_ref.ports[\"o1\"],\n",
    "        ecs[\"out\"].ports[\"o2\"],\n",
    "        start_straight_length=5.0,\n",
    "        end_straight_length=5.0,\n",
    "        cross_section=\"xs_rwg1000\",\n",
    "        bend=routing_bend,\n",
    "    )\n",
    "\n",
    "    c.flatten()\n",
    "    c.add_port(name=\"o1\", port=ecs[\"in\"].ports[\"o1\"])\n",
    "    c.add_port(name=\"o2\", port=ecs[\"out\"].ports[\"o1\"])\n",
    "\n",
    "    return c\n",
    "\n",
    "circuit = ring_pass_circuit()\n",
    "circuit"
   ]
  },
  {
   "cell_type": "markdown",
   "metadata": {},
   "source": [
    "Assemble on the die outline"
   ]
  },
  {
   "cell_type": "code",
   "execution_count": null,
   "metadata": {},
   "outputs": [],
   "source": [
    "@gf.cell\n",
    "def die_assembled(\n",
    "    chip_layout = chip_layout,\n",
    "    circuit = circuit,\n",
    ") -> gf.Component:\n",
    "    c = gf.Component()\n",
    "    c << chip_layout\n",
    "    c << circuit\n",
    "    c.add_ports(circuit.ports)\n",
    "    return c\n",
    "\n",
    "die = die_assembled()\n",
    "die.plot()\n",
    "die.show()\n",
    "_ = die.write_gds(gdsdir=Path.cwd())"
   ]
  },
  {
   "cell_type": "markdown",
   "metadata": {},
   "source": [
    "Recap the port positions for testing"
   ]
  },
  {
   "cell_type": "code",
   "execution_count": null,
   "metadata": {},
   "outputs": [],
   "source": [
    "die.pprint_ports()"
   ]
  },
  {
   "cell_type": "markdown",
   "metadata": {},
   "source": [
    "### Clear the gdsfactory cache"
   ]
  },
  {
   "cell_type": "code",
   "execution_count": null,
   "metadata": {},
   "outputs": [],
   "source": [
    "gf.clear_cache()"
   ]
  }
 ],
 "metadata": {
  "kernelspec": {
   "display_name": "base",
   "language": "python",
   "name": "python3"
  },
  "language_info": {
   "codemirror_mode": {
    "name": "ipython",
    "version": 3
   },
   "file_extension": ".py",
   "mimetype": "text/x-python",
   "name": "python",
   "nbconvert_exporter": "python",
   "pygments_lexer": "ipython3",
   "version": "3.11.9"
  }
 },
 "nbformat": 4,
 "nbformat_minor": 2
}
