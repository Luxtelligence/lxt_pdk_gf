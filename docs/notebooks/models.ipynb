{
 "cells": [
  {
   "cell_type": "markdown",
   "metadata": {},
   "source": [
    "## Circuit models\n",
    "\n",
    "We provide circuit models for the PDK elements, implemented using the [sax](https://flaport.github.io/sax/) circuit simulator. A dictionary with the available models can be obtained by running:\n",
    "\n",
    "`models = lnoi400.get_models()`\n",
    "\n",
    "These models are useful for constructing the scattering matrix of a building block, or of a hierarchical circuit. They are obtained by experimental characterization of the building blocks and with FDTD simulations,\n",
    "that provide the full wavelength-dependent behaviour. Since the lnoi400 PDK is conceived for optical C-band operation, the model results should not be trusted below 1500 or above 1600 nm.\n",
    "\n",
    "### Examples of circuit simulation using sax"
   ]
  },
  {
   "cell_type": "code",
   "execution_count": null,
   "metadata": {},
   "outputs": [],
   "source": [
    "import numpy as np\n",
    "from functools import partial\n",
    "import matplotlib.pyplot as plt\n",
    "import gdsfactory as gf\n",
    "import sax\n",
    "import gplugins.sax as gs\n",
    "import lnoi400"
   ]
  },
  {
   "cell_type": "markdown",
   "metadata": {},
   "source": [
    "#### Circuit simulation of a splitter tree"
   ]
  },
  {
   "cell_type": "markdown",
   "metadata": {},
   "source": [
    "First, we display the circuit model of the 1x2 MMI shipped with the PDK."
   ]
  },
  {
   "cell_type": "code",
   "execution_count": null,
   "metadata": {},
   "outputs": [],
   "source": [
    "splitter = gf.get_component(\"mmi1x2_optimized1550\")\n",
    "splitter.plot()"
   ]
  },
  {
   "cell_type": "code",
   "execution_count": null,
   "metadata": {},
   "outputs": [],
   "source": [
    "pcell_models = lnoi400.get_models()\n",
    "mmi_model = pcell_models[\"mmi1x2_optimized1550\"]\n",
    "_ = gs.plot_model(\n",
    "    mmi_model,\n",
    "    wavelength_start=1.5,\n",
    "    wavelength_stop=1.6,\n",
    "    port1=\"o1\",\n",
    "    ports2=(\"o2\", \"o3\"),\n",
    ")\n"
   ]
  },
  {
   "cell_type": "markdown",
   "metadata": {},
   "source": [
    "We then build a simple, two-level-deep splitter tree, creating a new gdsfactory hierarchical component. "
   ]
  },
  {
   "cell_type": "code",
   "execution_count": null,
   "metadata": {},
   "outputs": [],
   "source": [
    "@gf.cell\n",
    "def splitter_chain(\n",
    "    splitter = gf.get_component(\"mmi1x2_optimized1550\"),\n",
    "    column_offset = (250.0, 200.0),\n",
    "    routing_reff = 90.0\n",
    ") -> gf.Component:\n",
    "\n",
    "    c = gf.Component()\n",
    "    s0 = c << splitter\n",
    "    s01 = c << splitter\n",
    "    s02 = c << splitter\n",
    "    s01.dmove(\n",
    "        s01.ports[\"o1\"].dcenter,\n",
    "        s0.ports[\"o2\"].dcenter + np.array(column_offset)\n",
    "    )\n",
    "    s02.dmove(\n",
    "        s02.ports[\"o1\"].dcenter,\n",
    "        s0.ports[\"o3\"].dcenter + np.array([column_offset[0], - column_offset[1]])\n",
    "    )\n",
    "\n",
    "    # Bend spec\n",
    "\n",
    "    routing_bend = gf.get_component('L_turn_bend', radius=routing_reff)\n",
    "\n",
    "    # Routing between splitters\n",
    "\n",
    "    for ports_to_route in [\n",
    "        (s0.ports[\"o2\"], s01.ports[\"o1\"]),\n",
    "        (s0.ports[\"o3\"], s02.ports[\"o1\"]),\n",
    "    ]:\n",
    "\n",
    "        gf.routing.route_single(\n",
    "            c,\n",
    "            ports_to_route[0],\n",
    "            ports_to_route[1],\n",
    "            start_straight_length=5.0,\n",
    "            end_straight_length=5.0,\n",
    "            cross_section=\"xs_rwg1000\",\n",
    "            bend=routing_bend,\n",
    "        )\n",
    "\n",
    "    # Expose the I/O ports\n",
    "\n",
    "    c.add_port(name=\"in\", port=s0.ports[\"o1\"])\n",
    "    c.add_port(name=\"out_00\", port=s01.ports[\"o2\"])\n",
    "    c.add_port(name=\"out_01\", port=s01.ports[\"o3\"])\n",
    "    c.add_port(name=\"out_10\", port=s02.ports[\"o2\"])\n",
    "    c.add_port(name=\"out_11\", port=s02.ports[\"o3\"])\n",
    "\n",
    "    return c\n",
    "\n",
    "chain = splitter_chain()\n",
    "chain"
   ]
  },
  {
   "cell_type": "markdown",
   "metadata": {},
   "source": [
    "Let's compile the circuit simulation using sax."
   ]
  },
  {
   "cell_type": "code",
   "execution_count": null,
   "metadata": {},
   "outputs": [],
   "source": [
    "nl = chain.get_netlist()\n",
    "\n",
    "models = {\n",
    "    # The Euler bend should be sufficiently low-loss to be approximated with a straight waveguide\n",
    "    # (if the frequency is not too low)\n",
    "    \"L_turn_bend\": pcell_models[\"straight_rwg1000\"],\n",
    "    \"straight\": pcell_models[\"straight_rwg1000\"],\n",
    "    \"mmi1x2_optimized1550\": pcell_models[\"mmi1x2_optimized1550\"],\n",
    "}\n",
    "circuit, _ = sax.circuit(netlist=nl, models=models)\n",
    "\n",
    "_ = gs.plot_model(\n",
    "    circuit,\n",
    "    wavelength_start=1.5,\n",
    "    wavelength_stop=1.6,\n",
    "    port1=\"in\",\n",
    "    ports2=(\"out_00\", \"out_11\"),\n",
    ")"
   ]
  },
  {
   "cell_type": "markdown",
   "metadata": {},
   "source": [
    "#### Simulation of a Mach-Zehnder interferometer with a thermo-optical phase shifter"
   ]
  },
  {
   "cell_type": "markdown",
   "metadata": {},
   "source": [
    "First we take a look at the cell layout."
   ]
  },
  {
   "cell_type": "code",
   "execution_count": null,
   "metadata": {},
   "outputs": [],
   "source": [
    "mzm_specs = dict(\n",
    "    modulation_length=1500.0,\n",
    "    with_heater=True,\n",
    "    bias_tuning_section_length=1000.0,\n",
    ")\n",
    "mzm = gf.get_component(\n",
    "    \"mzm_unbalanced\",\n",
    "    **mzm_specs,\n",
    "    )\n",
    "mzm.plot()"
   ]
  },
  {
   "cell_type": "markdown",
   "metadata": {},
   "source": [
    "Then, we retrieve the circuit model and evaluate it for different wavelengths and voltages."
   ]
  },
  {
   "cell_type": "code",
   "execution_count": null,
   "metadata": {},
   "outputs": [],
   "source": [
    "mzm_specs = dict(\n",
    "    modulation_length=1500.0,\n",
    "    heater_length=1000.0,\n",
    ")\n",
    "mzm_model = partial(\n",
    "    pcell_models[\"mzm_unbalanced\"],\n",
    "    **mzm_specs,\n",
    ")\n",
    "\n",
    "fig = plt.figure(figsize=(7.5, 5))\n",
    "\n",
    "wls = [1.4, 1.5, 1.6]\n",
    "V_scan = np.linspace(-3, 3, 99)\n",
    "for wl in wls:\n",
    "    P_out = [np.abs(mzm_model(\n",
    "        wl=wl,\n",
    "        V_ht=V,\n",
    "        )[\"o2\", \"o1\"])\n",
    "        for V in V_scan]\n",
    "    plt.semilogy(V_scan, P_out, label=f'{wl} um')\n",
    "\n",
    "plt.legend(loc='best')\n",
    "plt.xlabel(\"Voltage (V)\")\n",
    "_ = plt.ylabel(\"MZM transmission\")"
   ]
  }
 ],
 "metadata": {
  "kernelspec": {
   "display_name": "base",
   "language": "python",
   "name": "python3"
  },
  "language_info": {
   "codemirror_mode": {
    "name": "ipython",
    "version": 3
   },
   "file_extension": ".py",
   "mimetype": "text/x-python",
   "name": "python",
   "nbconvert_exporter": "python",
   "pygments_lexer": "ipython3",
   "version": "3.11.9"
  }
 },
 "nbformat": 4,
 "nbformat_minor": 2
}
