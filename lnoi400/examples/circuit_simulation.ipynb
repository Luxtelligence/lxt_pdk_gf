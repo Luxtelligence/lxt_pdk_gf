{
 "cells": [
  {
   "cell_type": "code",
   "execution_count": null,
   "metadata": {},
   "outputs": [],
   "source": [
    "import numpy as np\n",
    "import gdsfactory as gf\n",
    "import sax\n",
    "import gplugins.sax as gs\n",
    "import lnoi400"
   ]
  },
  {
   "cell_type": "markdown",
   "metadata": {},
   "source": [
    "### Circuit simulation of a splitter chain"
   ]
  },
  {
   "cell_type": "code",
   "execution_count": null,
   "metadata": {},
   "outputs": [],
   "source": [
    "@gf.cell\n",
    "def splitter_chain(\n",
    "    splitter = gf.get_component(\"mmi1x2_optimized1550\"),\n",
    "    column_offset = (250.0, 200.0),\n",
    "    routing_reff = 90.0\n",
    ") -> gf.Component:\n",
    "    \n",
    "    c = gf.Component()\n",
    "    s0 = c << splitter\n",
    "    s01 = c << splitter\n",
    "    s02 = c << splitter\n",
    "    s01.dmove(\n",
    "        s01.ports[\"o1\"].dcenter,\n",
    "        s0.ports[\"o2\"].dcenter + np.array(column_offset)\n",
    "    )\n",
    "    s02.dmove(\n",
    "        s02.ports[\"o1\"].dcenter,\n",
    "        s0.ports[\"o3\"].dcenter + np.array([column_offset[0], - column_offset[1]])\n",
    "    )\n",
    "\n",
    "    # Bend spec\n",
    "\n",
    "    routing_bend = gf.get_component('L_turn_bend', radius=routing_reff)\n",
    "    \n",
    "    # Routing between splitters\n",
    "\n",
    "    for ports_to_route in [\n",
    "        (s0.ports[\"o2\"], s01.ports[\"o1\"]),\n",
    "        (s0.ports[\"o3\"], s02.ports[\"o1\"]),\n",
    "    ]:\n",
    "        \n",
    "        gf.routing.route_single(\n",
    "            c,\n",
    "            ports_to_route[0],\n",
    "            ports_to_route[1],\n",
    "            start_straight_length=5.0,\n",
    "            end_straight_length=5.0,\n",
    "            cross_section=\"xs_rwg1000\",\n",
    "            bend=routing_bend,\n",
    "        )\n",
    "\n",
    "    # Expose the I/O ports\n",
    "\n",
    "    c.add_port(name=\"in\", port=s0.ports[\"o1\"])\n",
    "    c.add_port(name=\"out_00\", port=s01.ports[\"o2\"])\n",
    "    c.add_port(name=\"out_01\", port=s01.ports[\"o3\"])\n",
    "    c.add_port(name=\"out_10\", port=s02.ports[\"o2\"])\n",
    "    c.add_port(name=\"out_11\", port=s02.ports[\"o3\"])\n",
    "\n",
    "    return c\n",
    "\n",
    "chain = splitter_chain()\n",
    "chain"
   ]
  },
  {
   "cell_type": "markdown",
   "metadata": {},
   "source": [
    "Compile the circuit simulation with sax"
   ]
  },
  {
   "cell_type": "code",
   "execution_count": null,
   "metadata": {},
   "outputs": [],
   "source": [
    "nl = chain.get_netlist()\n",
    "pcell_models = lnoi400.get_models()\n",
    "\n",
    "models = {\n",
    "    # The Euler bend should be sufficiently low-loss to be approximated with a straight waveguide\n",
    "    # (if the frequency is not too low)\n",
    "    \"L_turn_bend\": pcell_models[\"straight_rwg1000\"], \n",
    "    \"straight\": pcell_models[\"straight_rwg1000\"],\n",
    "    \"mmi1x2_optimized1550\": pcell_models[\"mmi1x2_optimized1550\"],\n",
    "}\n",
    "circuit, _ = sax.circuit(netlist=nl, models=models)\n",
    "\n",
    "_ = gs.plot_model(\n",
    "    circuit,\n",
    "    wavelength_start=1.5,\n",
    "    wavelength_stop=1.6,\n",
    "    port1=\"in\",\n",
    "    ports2=(\"out_00\", \"out_11\"),\n",
    ")"
   ]
  }
 ],
 "metadata": {
  "kernelspec": {
   "display_name": "base",
   "language": "python",
   "name": "python3"
  },
  "language_info": {
   "codemirror_mode": {
    "name": "ipython",
    "version": 3
   },
   "file_extension": ".py",
   "mimetype": "text/x-python",
   "name": "python",
   "nbconvert_exporter": "python",
   "pygments_lexer": "ipython3",
   "version": "3.11.9"
  }
 },
 "nbformat": 4,
 "nbformat_minor": 2
}
